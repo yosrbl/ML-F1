{
  "nbformat": 4,
  "nbformat_minor": 0,
  "metadata": {
    "kernelspec": {
      "name": "python3",
      "display_name": "Python 3"
    },
    "language_info": {
      "codemirror_mode": {
        "name": "ipython",
        "version": 3
      },
      "file_extension": ".py",
      "mimetype": "text/x-python",
      "name": "python",
      "nbconvert_exporter": "python",
      "pygments_lexer": "ipython3",
      "version": "3.6.8"
    },
    "colab": {
      "name": "Credit_Card_Fraud.ipynb",
      "provenance": [],
      "toc_visible": true,
      "include_colab_link": true
    }
  },
  "cells": [
    {
      "cell_type": "markdown",
      "metadata": {
        "id": "view-in-github",
        "colab_type": "text"
      },
      "source": [
        "<a href=\"https://colab.research.google.com/github/AlexandreBourrieau/ML-F1/blob/master/Carnets%20Jupyter/Fraude_CB.ipynb\" target=\"_parent\"><img src=\"https://colab.research.google.com/assets/colab-badge.svg\" alt=\"Open In Colab\"/></a>"
      ]
    },
    {
      "cell_type": "markdown",
      "metadata": {
        "id": "xohAxkytgvbx"
      },
      "source": [
        "# Détection de fraudes à la carte bancaire\n",
        "\n",
        "Cette base de données contient des transactions effectuées par CB en septembre 2013 par des utilisateurs européens. Les données ont été enregistrées sur deux jours, pendant lesquels 492 utilisations frauduleuses sur un total de 284 807 transactions ont été enregistrées.  \n",
        "\n",
        "Ce ratio est fortement déséquilibré car les cas de fraudes ne représentent que 0.172% des transactions. Un apprentissage supervisé n'est donc pas possible ici.  \n",
        "\n",
        "Nous allons utiliser un auto-encodeur pour effectuer un apprentissage non supervisé afin de détecter des irrégularités dans les données, indices de fraudes.  \n",
        "\n",
        "Les données sont disponibles sur le site de [Kaggle](https://www.kaggle.com/mlg-ulb/creditcardfraud)"
      ]
    },
    {
      "cell_type": "code",
      "metadata": {
        "id": "fPIVi6aGgvb0"
      },
      "source": [
        "import pandas as pd\n",
        "import numpy as np\n",
        "import matplotlib.pyplot as plt\n",
        "import seaborn as sns\n",
        "from sklearn.model_selection import train_test_split\n",
        "from sklearn.preprocessing import StandardScaler\n",
        "from tensorflow.keras.models import Sequential, load_model\n",
        "from tensorflow.keras.layers import Dense\n",
        "from tensorflow.keras.callbacks import ModelCheckpoint\n",
        "from sklearn.metrics import confusion_matrix"
      ],
      "execution_count": 1,
      "outputs": []
    },
    {
      "cell_type": "markdown",
      "metadata": {
        "id": "CqbDAvEbgvb7"
      },
      "source": [
        "## Lecture des données\n",
        "\n",
        "Le nombre de données est très grand. Pour réduire le temps de calcul, nous n'utiliserons qu'une partie d'entre elles.  "
      ]
    },
    {
      "cell_type": "code",
      "metadata": {
        "id": "cmDvv8e0NIfT",
        "colab": {
          "base_uri": "https://localhost:8080/"
        },
        "outputId": "42727d8a-3c21-42d6-8613-da4951d4c91a"
      },
      "source": [
        "!wget -q \"https://github.com/AlexandreBourrieau/ML-F1/raw/master/Carnets%20Jupyter/Donn%C3%A9es/creditcard.zip\"\n",
        "!unzip creditcard.zip -x"
      ],
      "execution_count": 2,
      "outputs": [
        {
          "output_type": "stream",
          "text": [
            "Archive:  creditcard.zip\n",
            "  inflating: creditcard.csv          \n"
          ],
          "name": "stdout"
        }
      ]
    },
    {
      "cell_type": "code",
      "metadata": {
        "colab": {
          "base_uri": "https://localhost:8080/"
        },
        "id": "WyfM9Ccc4nLc",
        "outputId": "251cb79d-4299-4588-e13e-c716a2c52628"
      },
      "source": [
        "!ls"
      ],
      "execution_count": 3,
      "outputs": [
        {
          "output_type": "stream",
          "text": [
            "creditcard.csv\tcreditcard.zip\tsample_data\n"
          ],
          "name": "stdout"
        }
      ]
    },
    {
      "cell_type": "code",
      "metadata": {
        "id": "VSEi4bFBgvb8",
        "colab": {
          "base_uri": "https://localhost:8080/"
        },
        "outputId": "7a5a4f46-5f6d-4354-dbfb-3d818a8dd4b5"
      },
      "source": [
        "data = pd.read_csv(\"creditcard.csv\")\n",
        "data = data.head(30000)\n",
        "data.shape"
      ],
      "execution_count": 4,
      "outputs": [
        {
          "output_type": "execute_result",
          "data": {
            "text/plain": [
              "(30000, 31)"
            ]
          },
          "metadata": {
            "tags": []
          },
          "execution_count": 4
        }
      ]
    },
    {
      "cell_type": "markdown",
      "metadata": {
        "id": "5QqUPf5N5tAn"
      },
      "source": [
        "Les colonnes qui ne sont pas anonymisées sont :\r\n",
        "- Time : Temps écoulé depuis la première transaction\r\n",
        "- Amount : Montant de la transaction\r\n",
        "- Class : 0 = Achat non frauduleux / 1 = achat frauduleux\r\n",
        "  \r\n",
        "Les autres données anonymes sont par exemple les coordonnées de l'acheteur, son adresse, ..."
      ]
    },
    {
      "cell_type": "code",
      "metadata": {
        "id": "zh-HZs3Gv5c2",
        "colab": {
          "base_uri": "https://localhost:8080/",
          "height": 222
        },
        "outputId": "0e162c75-0ccd-40b4-f694-441f4b79153f"
      },
      "source": [
        "data.head()"
      ],
      "execution_count": 5,
      "outputs": [
        {
          "output_type": "execute_result",
          "data": {
            "text/html": [
              "<div>\n",
              "<style scoped>\n",
              "    .dataframe tbody tr th:only-of-type {\n",
              "        vertical-align: middle;\n",
              "    }\n",
              "\n",
              "    .dataframe tbody tr th {\n",
              "        vertical-align: top;\n",
              "    }\n",
              "\n",
              "    .dataframe thead th {\n",
              "        text-align: right;\n",
              "    }\n",
              "</style>\n",
              "<table border=\"1\" class=\"dataframe\">\n",
              "  <thead>\n",
              "    <tr style=\"text-align: right;\">\n",
              "      <th></th>\n",
              "      <th>Time</th>\n",
              "      <th>V1</th>\n",
              "      <th>V2</th>\n",
              "      <th>V3</th>\n",
              "      <th>V4</th>\n",
              "      <th>V5</th>\n",
              "      <th>V6</th>\n",
              "      <th>V7</th>\n",
              "      <th>V8</th>\n",
              "      <th>V9</th>\n",
              "      <th>V10</th>\n",
              "      <th>V11</th>\n",
              "      <th>V12</th>\n",
              "      <th>V13</th>\n",
              "      <th>V14</th>\n",
              "      <th>V15</th>\n",
              "      <th>V16</th>\n",
              "      <th>V17</th>\n",
              "      <th>V18</th>\n",
              "      <th>V19</th>\n",
              "      <th>V20</th>\n",
              "      <th>V21</th>\n",
              "      <th>V22</th>\n",
              "      <th>V23</th>\n",
              "      <th>V24</th>\n",
              "      <th>V25</th>\n",
              "      <th>V26</th>\n",
              "      <th>V27</th>\n",
              "      <th>V28</th>\n",
              "      <th>Amount</th>\n",
              "      <th>Class</th>\n",
              "    </tr>\n",
              "  </thead>\n",
              "  <tbody>\n",
              "    <tr>\n",
              "      <th>0</th>\n",
              "      <td>0.0</td>\n",
              "      <td>-1.359807</td>\n",
              "      <td>-0.072781</td>\n",
              "      <td>2.536347</td>\n",
              "      <td>1.378155</td>\n",
              "      <td>-0.338321</td>\n",
              "      <td>0.462388</td>\n",
              "      <td>0.239599</td>\n",
              "      <td>0.098698</td>\n",
              "      <td>0.363787</td>\n",
              "      <td>0.090794</td>\n",
              "      <td>-0.551600</td>\n",
              "      <td>-0.617801</td>\n",
              "      <td>-0.991390</td>\n",
              "      <td>-0.311169</td>\n",
              "      <td>1.468177</td>\n",
              "      <td>-0.470401</td>\n",
              "      <td>0.207971</td>\n",
              "      <td>0.025791</td>\n",
              "      <td>0.403993</td>\n",
              "      <td>0.251412</td>\n",
              "      <td>-0.018307</td>\n",
              "      <td>0.277838</td>\n",
              "      <td>-0.110474</td>\n",
              "      <td>0.066928</td>\n",
              "      <td>0.128539</td>\n",
              "      <td>-0.189115</td>\n",
              "      <td>0.133558</td>\n",
              "      <td>-0.021053</td>\n",
              "      <td>149.62</td>\n",
              "      <td>0</td>\n",
              "    </tr>\n",
              "    <tr>\n",
              "      <th>1</th>\n",
              "      <td>0.0</td>\n",
              "      <td>1.191857</td>\n",
              "      <td>0.266151</td>\n",
              "      <td>0.166480</td>\n",
              "      <td>0.448154</td>\n",
              "      <td>0.060018</td>\n",
              "      <td>-0.082361</td>\n",
              "      <td>-0.078803</td>\n",
              "      <td>0.085102</td>\n",
              "      <td>-0.255425</td>\n",
              "      <td>-0.166974</td>\n",
              "      <td>1.612727</td>\n",
              "      <td>1.065235</td>\n",
              "      <td>0.489095</td>\n",
              "      <td>-0.143772</td>\n",
              "      <td>0.635558</td>\n",
              "      <td>0.463917</td>\n",
              "      <td>-0.114805</td>\n",
              "      <td>-0.183361</td>\n",
              "      <td>-0.145783</td>\n",
              "      <td>-0.069083</td>\n",
              "      <td>-0.225775</td>\n",
              "      <td>-0.638672</td>\n",
              "      <td>0.101288</td>\n",
              "      <td>-0.339846</td>\n",
              "      <td>0.167170</td>\n",
              "      <td>0.125895</td>\n",
              "      <td>-0.008983</td>\n",
              "      <td>0.014724</td>\n",
              "      <td>2.69</td>\n",
              "      <td>0</td>\n",
              "    </tr>\n",
              "    <tr>\n",
              "      <th>2</th>\n",
              "      <td>1.0</td>\n",
              "      <td>-1.358354</td>\n",
              "      <td>-1.340163</td>\n",
              "      <td>1.773209</td>\n",
              "      <td>0.379780</td>\n",
              "      <td>-0.503198</td>\n",
              "      <td>1.800499</td>\n",
              "      <td>0.791461</td>\n",
              "      <td>0.247676</td>\n",
              "      <td>-1.514654</td>\n",
              "      <td>0.207643</td>\n",
              "      <td>0.624501</td>\n",
              "      <td>0.066084</td>\n",
              "      <td>0.717293</td>\n",
              "      <td>-0.165946</td>\n",
              "      <td>2.345865</td>\n",
              "      <td>-2.890083</td>\n",
              "      <td>1.109969</td>\n",
              "      <td>-0.121359</td>\n",
              "      <td>-2.261857</td>\n",
              "      <td>0.524980</td>\n",
              "      <td>0.247998</td>\n",
              "      <td>0.771679</td>\n",
              "      <td>0.909412</td>\n",
              "      <td>-0.689281</td>\n",
              "      <td>-0.327642</td>\n",
              "      <td>-0.139097</td>\n",
              "      <td>-0.055353</td>\n",
              "      <td>-0.059752</td>\n",
              "      <td>378.66</td>\n",
              "      <td>0</td>\n",
              "    </tr>\n",
              "    <tr>\n",
              "      <th>3</th>\n",
              "      <td>1.0</td>\n",
              "      <td>-0.966272</td>\n",
              "      <td>-0.185226</td>\n",
              "      <td>1.792993</td>\n",
              "      <td>-0.863291</td>\n",
              "      <td>-0.010309</td>\n",
              "      <td>1.247203</td>\n",
              "      <td>0.237609</td>\n",
              "      <td>0.377436</td>\n",
              "      <td>-1.387024</td>\n",
              "      <td>-0.054952</td>\n",
              "      <td>-0.226487</td>\n",
              "      <td>0.178228</td>\n",
              "      <td>0.507757</td>\n",
              "      <td>-0.287924</td>\n",
              "      <td>-0.631418</td>\n",
              "      <td>-1.059647</td>\n",
              "      <td>-0.684093</td>\n",
              "      <td>1.965775</td>\n",
              "      <td>-1.232622</td>\n",
              "      <td>-0.208038</td>\n",
              "      <td>-0.108300</td>\n",
              "      <td>0.005274</td>\n",
              "      <td>-0.190321</td>\n",
              "      <td>-1.175575</td>\n",
              "      <td>0.647376</td>\n",
              "      <td>-0.221929</td>\n",
              "      <td>0.062723</td>\n",
              "      <td>0.061458</td>\n",
              "      <td>123.50</td>\n",
              "      <td>0</td>\n",
              "    </tr>\n",
              "    <tr>\n",
              "      <th>4</th>\n",
              "      <td>2.0</td>\n",
              "      <td>-1.158233</td>\n",
              "      <td>0.877737</td>\n",
              "      <td>1.548718</td>\n",
              "      <td>0.403034</td>\n",
              "      <td>-0.407193</td>\n",
              "      <td>0.095921</td>\n",
              "      <td>0.592941</td>\n",
              "      <td>-0.270533</td>\n",
              "      <td>0.817739</td>\n",
              "      <td>0.753074</td>\n",
              "      <td>-0.822843</td>\n",
              "      <td>0.538196</td>\n",
              "      <td>1.345852</td>\n",
              "      <td>-1.119670</td>\n",
              "      <td>0.175121</td>\n",
              "      <td>-0.451449</td>\n",
              "      <td>-0.237033</td>\n",
              "      <td>-0.038195</td>\n",
              "      <td>0.803487</td>\n",
              "      <td>0.408542</td>\n",
              "      <td>-0.009431</td>\n",
              "      <td>0.798278</td>\n",
              "      <td>-0.137458</td>\n",
              "      <td>0.141267</td>\n",
              "      <td>-0.206010</td>\n",
              "      <td>0.502292</td>\n",
              "      <td>0.219422</td>\n",
              "      <td>0.215153</td>\n",
              "      <td>69.99</td>\n",
              "      <td>0</td>\n",
              "    </tr>\n",
              "  </tbody>\n",
              "</table>\n",
              "</div>"
            ],
            "text/plain": [
              "   Time        V1        V2        V3  ...       V27       V28  Amount  Class\n",
              "0   0.0 -1.359807 -0.072781  2.536347  ...  0.133558 -0.021053  149.62      0\n",
              "1   0.0  1.191857  0.266151  0.166480  ... -0.008983  0.014724    2.69      0\n",
              "2   1.0 -1.358354 -1.340163  1.773209  ... -0.055353 -0.059752  378.66      0\n",
              "3   1.0 -0.966272 -0.185226  1.792993  ...  0.062723  0.061458  123.50      0\n",
              "4   2.0 -1.158233  0.877737  1.548718  ...  0.219422  0.215153   69.99      0\n",
              "\n",
              "[5 rows x 31 columns]"
            ]
          },
          "metadata": {
            "tags": []
          },
          "execution_count": 5
        }
      ]
    },
    {
      "cell_type": "markdown",
      "metadata": {
        "id": "zgMLc0626hzL"
      },
      "source": [
        "Regardons combien nous avons de données frauduleuses :"
      ]
    },
    {
      "cell_type": "code",
      "metadata": {
        "id": "CDDQ22kt81nt",
        "colab": {
          "base_uri": "https://localhost:8080/",
          "height": 161
        },
        "outputId": "f1cc10a2-207e-4cfa-8d5c-6d45e706fd73"
      },
      "source": [
        "data.groupby(['Class']).count()"
      ],
      "execution_count": 6,
      "outputs": [
        {
          "output_type": "execute_result",
          "data": {
            "text/html": [
              "<div>\n",
              "<style scoped>\n",
              "    .dataframe tbody tr th:only-of-type {\n",
              "        vertical-align: middle;\n",
              "    }\n",
              "\n",
              "    .dataframe tbody tr th {\n",
              "        vertical-align: top;\n",
              "    }\n",
              "\n",
              "    .dataframe thead th {\n",
              "        text-align: right;\n",
              "    }\n",
              "</style>\n",
              "<table border=\"1\" class=\"dataframe\">\n",
              "  <thead>\n",
              "    <tr style=\"text-align: right;\">\n",
              "      <th></th>\n",
              "      <th>Time</th>\n",
              "      <th>V1</th>\n",
              "      <th>V2</th>\n",
              "      <th>V3</th>\n",
              "      <th>V4</th>\n",
              "      <th>V5</th>\n",
              "      <th>V6</th>\n",
              "      <th>V7</th>\n",
              "      <th>V8</th>\n",
              "      <th>V9</th>\n",
              "      <th>V10</th>\n",
              "      <th>V11</th>\n",
              "      <th>V12</th>\n",
              "      <th>V13</th>\n",
              "      <th>V14</th>\n",
              "      <th>V15</th>\n",
              "      <th>V16</th>\n",
              "      <th>V17</th>\n",
              "      <th>V18</th>\n",
              "      <th>V19</th>\n",
              "      <th>V20</th>\n",
              "      <th>V21</th>\n",
              "      <th>V22</th>\n",
              "      <th>V23</th>\n",
              "      <th>V24</th>\n",
              "      <th>V25</th>\n",
              "      <th>V26</th>\n",
              "      <th>V27</th>\n",
              "      <th>V28</th>\n",
              "      <th>Amount</th>\n",
              "    </tr>\n",
              "    <tr>\n",
              "      <th>Class</th>\n",
              "      <th></th>\n",
              "      <th></th>\n",
              "      <th></th>\n",
              "      <th></th>\n",
              "      <th></th>\n",
              "      <th></th>\n",
              "      <th></th>\n",
              "      <th></th>\n",
              "      <th></th>\n",
              "      <th></th>\n",
              "      <th></th>\n",
              "      <th></th>\n",
              "      <th></th>\n",
              "      <th></th>\n",
              "      <th></th>\n",
              "      <th></th>\n",
              "      <th></th>\n",
              "      <th></th>\n",
              "      <th></th>\n",
              "      <th></th>\n",
              "      <th></th>\n",
              "      <th></th>\n",
              "      <th></th>\n",
              "      <th></th>\n",
              "      <th></th>\n",
              "      <th></th>\n",
              "      <th></th>\n",
              "      <th></th>\n",
              "      <th></th>\n",
              "      <th></th>\n",
              "    </tr>\n",
              "  </thead>\n",
              "  <tbody>\n",
              "    <tr>\n",
              "      <th>0</th>\n",
              "      <td>29906</td>\n",
              "      <td>29906</td>\n",
              "      <td>29906</td>\n",
              "      <td>29906</td>\n",
              "      <td>29906</td>\n",
              "      <td>29906</td>\n",
              "      <td>29906</td>\n",
              "      <td>29906</td>\n",
              "      <td>29906</td>\n",
              "      <td>29906</td>\n",
              "      <td>29906</td>\n",
              "      <td>29906</td>\n",
              "      <td>29906</td>\n",
              "      <td>29906</td>\n",
              "      <td>29906</td>\n",
              "      <td>29906</td>\n",
              "      <td>29906</td>\n",
              "      <td>29906</td>\n",
              "      <td>29906</td>\n",
              "      <td>29906</td>\n",
              "      <td>29906</td>\n",
              "      <td>29906</td>\n",
              "      <td>29906</td>\n",
              "      <td>29906</td>\n",
              "      <td>29906</td>\n",
              "      <td>29906</td>\n",
              "      <td>29906</td>\n",
              "      <td>29906</td>\n",
              "      <td>29906</td>\n",
              "      <td>29906</td>\n",
              "    </tr>\n",
              "    <tr>\n",
              "      <th>1</th>\n",
              "      <td>94</td>\n",
              "      <td>94</td>\n",
              "      <td>94</td>\n",
              "      <td>94</td>\n",
              "      <td>94</td>\n",
              "      <td>94</td>\n",
              "      <td>94</td>\n",
              "      <td>94</td>\n",
              "      <td>94</td>\n",
              "      <td>94</td>\n",
              "      <td>94</td>\n",
              "      <td>94</td>\n",
              "      <td>94</td>\n",
              "      <td>94</td>\n",
              "      <td>94</td>\n",
              "      <td>94</td>\n",
              "      <td>94</td>\n",
              "      <td>94</td>\n",
              "      <td>94</td>\n",
              "      <td>94</td>\n",
              "      <td>94</td>\n",
              "      <td>94</td>\n",
              "      <td>94</td>\n",
              "      <td>94</td>\n",
              "      <td>94</td>\n",
              "      <td>94</td>\n",
              "      <td>94</td>\n",
              "      <td>94</td>\n",
              "      <td>94</td>\n",
              "      <td>94</td>\n",
              "    </tr>\n",
              "  </tbody>\n",
              "</table>\n",
              "</div>"
            ],
            "text/plain": [
              "        Time     V1     V2     V3     V4  ...    V25    V26    V27    V28  Amount\n",
              "Class                                     ...                                    \n",
              "0      29906  29906  29906  29906  29906  ...  29906  29906  29906  29906   29906\n",
              "1         94     94     94     94     94  ...     94     94     94     94      94\n",
              "\n",
              "[2 rows x 30 columns]"
            ]
          },
          "metadata": {
            "tags": []
          },
          "execution_count": 6
        }
      ]
    },
    {
      "cell_type": "code",
      "metadata": {
        "id": "TLM0ajP88zQO",
        "outputId": "52b5d1b5-143d-4773-9181-f2c478be64eb",
        "colab": {
          "base_uri": "https://localhost:8080/"
        }
      },
      "source": [
        "100*(94/29906)"
      ],
      "execution_count": 7,
      "outputs": [
        {
          "output_type": "execute_result",
          "data": {
            "text/plain": [
              "0.31431819701732094"
            ]
          },
          "metadata": {
            "tags": []
          },
          "execution_count": 7
        }
      ]
    },
    {
      "cell_type": "markdown",
      "metadata": {
        "id": "cxjaflpVgvcD"
      },
      "source": [
        "## Préparation des données\n",
        "\n",
        "La colonne Time est ignorée et le montant de la transaction est normalisé. Les autres colonnes sont inchangées"
      ]
    },
    {
      "cell_type": "code",
      "metadata": {
        "id": "JB_FNz-4gvcE"
      },
      "source": [
        "data = data.drop(['Time'], axis=1)\n",
        "data['Amount'] = StandardScaler().fit_transform(data['Amount'].values.reshape(-1, 1))"
      ],
      "execution_count": 8,
      "outputs": []
    },
    {
      "cell_type": "code",
      "metadata": {
        "id": "3VhZZRvwgvcG",
        "colab": {
          "base_uri": "https://localhost:8080/"
        },
        "outputId": "0fd6da35-7364-4b60-f115-560696d2185a"
      },
      "source": [
        "x_entrainement, x_test = train_test_split(data, test_size=0.2, random_state=0)\n",
        "x_entrainement = x_entrainement.drop(['Class'], axis=1)\n",
        "y_test = x_test['Class']\n",
        "x_test = x_test.drop(['Class'], axis=1)\n",
        "x_entrainement = x_entrainement.values\n",
        "x_test = x_test.values\n",
        "x_entrainement.shape"
      ],
      "execution_count": 9,
      "outputs": [
        {
          "output_type": "execute_result",
          "data": {
            "text/plain": [
              "(24000, 29)"
            ]
          },
          "metadata": {
            "tags": []
          },
          "execution_count": 9
        }
      ]
    },
    {
      "cell_type": "markdown",
      "metadata": {
        "id": "idV-blvXgvcJ"
      },
      "source": [
        "## Modèle de l'Auto-encodeur\n",
        "\n",
        "Ce modèle est un modèle standard d'auto-encodeur à quatre couches."
      ]
    },
    {
      "cell_type": "code",
      "metadata": {
        "id": "rDTwKbXqln-T",
        "colab": {
          "base_uri": "https://localhost:8080/"
        },
        "outputId": "53e73e70-7ead-4aa1-a703-bd80b9328f59"
      },
      "source": [
        "dimension_entrees = x_entrainement.shape[1]\n",
        "dimension_encodeur = 14\n",
        "\n",
        "model = Sequential()\n",
        "model.add(Dense(dimension_encodeur, activation=\"tanh\", input_shape=(dimension_entrees,)))\n",
        "model.add(Dense(int(dimension_encodeur /2), activation=\"relu\"))\n",
        "model.add(Dense(int(dimension_encodeur /2), activation='tanh'))\n",
        "model.add(Dense(dimension_entrees, activation='relu'))\n",
        "\n",
        "model.summary()"
      ],
      "execution_count": 54,
      "outputs": [
        {
          "output_type": "stream",
          "text": [
            "Model: \"sequential_8\"\n",
            "_________________________________________________________________\n",
            "Layer (type)                 Output Shape              Param #   \n",
            "=================================================================\n",
            "dense_32 (Dense)             (None, 34)                1020      \n",
            "_________________________________________________________________\n",
            "dense_33 (Dense)             (None, 17)                595       \n",
            "_________________________________________________________________\n",
            "dense_34 (Dense)             (None, 17)                306       \n",
            "_________________________________________________________________\n",
            "dense_35 (Dense)             (None, 29)                522       \n",
            "=================================================================\n",
            "Total params: 2,443\n",
            "Trainable params: 2,443\n",
            "Non-trainable params: 0\n",
            "_________________________________________________________________\n"
          ],
          "name": "stdout"
        }
      ]
    },
    {
      "cell_type": "markdown",
      "metadata": {
        "id": "kvOSXfO2yRAF"
      },
      "source": [
        "# Model Training\n",
        "\n",
        "Given such a simple model and relatively small data set, it might be faster to train without a GPU."
      ]
    },
    {
      "cell_type": "code",
      "metadata": {
        "id": "sw64M6v7gvcN",
        "colab": {
          "base_uri": "https://localhost:8080/"
        },
        "outputId": "f76c5ecf-6337-4168-ac3a-b728fb56af3b"
      },
      "source": [
        "nb_epoch = 40\n",
        "batch_size = 35\n",
        "\n",
        "model.compile(optimizer='adam', loss='mean_squared_error', metrics=['acc'])\n",
        "\n",
        "history = model.fit(x_entrainement, x_entrainement,\n",
        "                    epochs=nb_epoch,\n",
        "                    batch_size=batch_size,\n",
        "                    validation_data=(x_test, x_test),\n",
        "                    verbose=1)\n",
        "\n",
        "autoencoder = model"
      ],
      "execution_count": 55,
      "outputs": [
        {
          "output_type": "stream",
          "text": [
            "Epoch 1/40\n",
            "4800/4800 [==============================] - 9s 2ms/step - loss: 1.0596 - acc: 0.5416 - val_loss: 0.7724 - val_acc: 0.7613\n",
            "Epoch 2/40\n",
            "4800/4800 [==============================] - 8s 2ms/step - loss: 0.7718 - acc: 0.7797 - val_loss: 0.7313 - val_acc: 0.7977\n",
            "Epoch 3/40\n",
            "4800/4800 [==============================] - 8s 2ms/step - loss: 0.7934 - acc: 0.8162 - val_loss: 0.7091 - val_acc: 0.8388\n",
            "Epoch 4/40\n",
            "4800/4800 [==============================] - 8s 2ms/step - loss: 0.7930 - acc: 0.8216 - val_loss: 0.7001 - val_acc: 0.8338\n",
            "Epoch 5/40\n",
            "4800/4800 [==============================] - 8s 2ms/step - loss: 0.7344 - acc: 0.8355 - val_loss: 0.6972 - val_acc: 0.8413\n",
            "Epoch 6/40\n",
            "4800/4800 [==============================] - 8s 2ms/step - loss: 0.7302 - acc: 0.8438 - val_loss: 0.6946 - val_acc: 0.8505\n",
            "Epoch 7/40\n",
            "4800/4800 [==============================] - 8s 2ms/step - loss: 0.7665 - acc: 0.8469 - val_loss: 0.6880 - val_acc: 0.8640\n",
            "Epoch 8/40\n",
            "4800/4800 [==============================] - 8s 2ms/step - loss: 0.7172 - acc: 0.8506 - val_loss: 0.6860 - val_acc: 0.8567\n",
            "Epoch 9/40\n",
            "4800/4800 [==============================] - 8s 2ms/step - loss: 0.6891 - acc: 0.8545 - val_loss: 0.6868 - val_acc: 0.8455\n",
            "Epoch 10/40\n",
            "4800/4800 [==============================] - 8s 2ms/step - loss: 0.6892 - acc: 0.8595 - val_loss: 0.6880 - val_acc: 0.8643\n",
            "Epoch 11/40\n",
            "4800/4800 [==============================] - 7s 2ms/step - loss: 0.7096 - acc: 0.8598 - val_loss: 0.6844 - val_acc: 0.8638\n",
            "Epoch 12/40\n",
            "4800/4800 [==============================] - 7s 2ms/step - loss: 0.7538 - acc: 0.8640 - val_loss: 0.6869 - val_acc: 0.8438\n",
            "Epoch 13/40\n",
            "4800/4800 [==============================] - 8s 2ms/step - loss: 0.7369 - acc: 0.8667 - val_loss: 0.6814 - val_acc: 0.8715\n",
            "Epoch 14/40\n",
            "4800/4800 [==============================] - 8s 2ms/step - loss: 0.7086 - acc: 0.8590 - val_loss: 0.6933 - val_acc: 0.8158\n",
            "Epoch 15/40\n",
            "4800/4800 [==============================] - 8s 2ms/step - loss: 0.7254 - acc: 0.8603 - val_loss: 0.6800 - val_acc: 0.8772\n",
            "Epoch 16/40\n",
            "4800/4800 [==============================] - 9s 2ms/step - loss: 0.7418 - acc: 0.8734 - val_loss: 0.6789 - val_acc: 0.8723\n",
            "Epoch 17/40\n",
            "4800/4800 [==============================] - 8s 2ms/step - loss: 0.6918 - acc: 0.8670 - val_loss: 0.6821 - val_acc: 0.8490\n",
            "Epoch 18/40\n",
            "4800/4800 [==============================] - 8s 2ms/step - loss: 0.7119 - acc: 0.8672 - val_loss: 0.6819 - val_acc: 0.8518\n",
            "Epoch 19/40\n",
            "4800/4800 [==============================] - 8s 2ms/step - loss: 0.7101 - acc: 0.8679 - val_loss: 0.6825 - val_acc: 0.8617\n",
            "Epoch 20/40\n",
            "4800/4800 [==============================] - 8s 2ms/step - loss: 0.7245 - acc: 0.8660 - val_loss: 0.6836 - val_acc: 0.8512\n",
            "Epoch 21/40\n",
            "4800/4800 [==============================] - 8s 2ms/step - loss: 0.7130 - acc: 0.8638 - val_loss: 0.6803 - val_acc: 0.8743\n",
            "Epoch 22/40\n",
            "4800/4800 [==============================] - 7s 2ms/step - loss: 0.7766 - acc: 0.8735 - val_loss: 0.6794 - val_acc: 0.8758\n",
            "Epoch 23/40\n",
            "4800/4800 [==============================] - 8s 2ms/step - loss: 0.7558 - acc: 0.8646 - val_loss: 0.6759 - val_acc: 0.8857\n",
            "Epoch 24/40\n",
            "4800/4800 [==============================] - 8s 2ms/step - loss: 0.6792 - acc: 0.8755 - val_loss: 0.6772 - val_acc: 0.8945\n",
            "Epoch 25/40\n",
            "4800/4800 [==============================] - 8s 2ms/step - loss: 0.7554 - acc: 0.8712 - val_loss: 0.6799 - val_acc: 0.8735\n",
            "Epoch 26/40\n",
            "4800/4800 [==============================] - 8s 2ms/step - loss: 0.6984 - acc: 0.8709 - val_loss: 0.6771 - val_acc: 0.8853\n",
            "Epoch 27/40\n",
            "4800/4800 [==============================] - 8s 2ms/step - loss: 0.7322 - acc: 0.8738 - val_loss: 0.6765 - val_acc: 0.8655\n",
            "Epoch 28/40\n",
            "4800/4800 [==============================] - 8s 2ms/step - loss: 0.7398 - acc: 0.8724 - val_loss: 0.6776 - val_acc: 0.8640\n",
            "Epoch 29/40\n",
            "4800/4800 [==============================] - 8s 2ms/step - loss: 0.7651 - acc: 0.8713 - val_loss: 0.6824 - val_acc: 0.8732\n",
            "Epoch 30/40\n",
            "4800/4800 [==============================] - 8s 2ms/step - loss: 0.6851 - acc: 0.8742 - val_loss: 0.6758 - val_acc: 0.8852\n",
            "Epoch 31/40\n",
            "4800/4800 [==============================] - 9s 2ms/step - loss: 0.7145 - acc: 0.8713 - val_loss: 0.6785 - val_acc: 0.8678\n",
            "Epoch 32/40\n",
            "4800/4800 [==============================] - 8s 2ms/step - loss: 0.7318 - acc: 0.8727 - val_loss: 0.6752 - val_acc: 0.8472\n",
            "Epoch 33/40\n",
            "4800/4800 [==============================] - 8s 2ms/step - loss: 0.7348 - acc: 0.8757 - val_loss: 0.6772 - val_acc: 0.8782\n",
            "Epoch 34/40\n",
            "4800/4800 [==============================] - 8s 2ms/step - loss: 0.7406 - acc: 0.8769 - val_loss: 0.6820 - val_acc: 0.8440\n",
            "Epoch 35/40\n",
            "4800/4800 [==============================] - 8s 2ms/step - loss: 0.6973 - acc: 0.8743 - val_loss: 0.6755 - val_acc: 0.8793\n",
            "Epoch 36/40\n",
            "4800/4800 [==============================] - 8s 2ms/step - loss: 0.7328 - acc: 0.8741 - val_loss: 0.6822 - val_acc: 0.8492\n",
            "Epoch 37/40\n",
            "4800/4800 [==============================] - 8s 2ms/step - loss: 0.7291 - acc: 0.8648 - val_loss: 0.6751 - val_acc: 0.8868\n",
            "Epoch 38/40\n",
            "4800/4800 [==============================] - 7s 2ms/step - loss: 0.6926 - acc: 0.8700 - val_loss: 0.6719 - val_acc: 0.8890\n",
            "Epoch 39/40\n",
            "4800/4800 [==============================] - 8s 2ms/step - loss: 0.6935 - acc: 0.8774 - val_loss: 0.6892 - val_acc: 0.8440\n",
            "Epoch 40/40\n",
            "4800/4800 [==============================] - 8s 2ms/step - loss: 0.7137 - acc: 0.8681 - val_loss: 0.6721 - val_acc: 0.8875\n"
          ],
          "name": "stdout"
        }
      ]
    },
    {
      "cell_type": "markdown",
      "metadata": {
        "id": "jOreexr_gvcP"
      },
      "source": [
        "## Model Performance\n",
        "\n",
        "A simple plot of model accuracy to confirm that it is learning something."
      ]
    },
    {
      "cell_type": "code",
      "metadata": {
        "id": "KU1Y1-12gvcQ",
        "colab": {
          "base_uri": "https://localhost:8080/",
          "height": 295
        },
        "outputId": "69736eaf-a244-4441-dea8-c6642ac15745"
      },
      "source": [
        "# summarize history for accuracy\n",
        "plt.plot(history.history['acc'])\n",
        "plt.plot(history.history['val_acc'])\n",
        "plt.title('Model accuracy')\n",
        "plt.ylabel('Accuracy')\n",
        "plt.xlabel('Epoch')\n",
        "plt.legend(['Train', 'Test'], loc='upper left')\n",
        "plt.show()"
      ],
      "execution_count": 56,
      "outputs": [
        {
          "output_type": "display_data",
          "data": {
            "image/png": "[encoded data removed]",
            "text/plain": [
              "<Figure size 432x288 with 1 Axes>"
            ]
          },
          "metadata": {
            "tags": [],
            "needs_background": "light"
          }
        }
      ]
    },
    {
      "cell_type": "markdown",
      "metadata": {
        "id": "EK8OLAVegvcT"
      },
      "source": [
        "## Prediction\n",
        "\n",
        "Predictions are made on the test set. The mean-squared error (MSE) is calculated between the test set and their predictions. If the MSE is high, it's a potential irregularity that might suggest fraud. It's not perfect, there will be false positives and false negatives."
      ]
    },
    {
      "cell_type": "code",
      "metadata": {
        "id": "pedvVXtngvcU"
      },
      "source": [
        "predictions = autoencoder.predict(x_test)\n",
        "mse = np.mean(np.power(x_test - predictions, 2), axis=1)\n",
        "error_df = pd.DataFrame({'reconstruction_error': mse, 'true_class': y_test})"
      ],
      "execution_count": 57,
      "outputs": []
    },
    {
      "cell_type": "code",
      "metadata": {
        "id": "lVXgySCoNb-O",
        "colab": {
          "base_uri": "https://localhost:8080/",
          "height": 202
        },
        "outputId": "3dbe923d-4ad3-4a94-c6be-e2432e007701"
      },
      "source": [
        "error_df.head()"
      ],
      "execution_count": 22,
      "outputs": [
        {
          "output_type": "execute_result",
          "data": {
            "text/html": [
              "<div>\n",
              "<style scoped>\n",
              "    .dataframe tbody tr th:only-of-type {\n",
              "        vertical-align: middle;\n",
              "    }\n",
              "\n",
              "    .dataframe tbody tr th {\n",
              "        vertical-align: top;\n",
              "    }\n",
              "\n",
              "    .dataframe thead th {\n",
              "        text-align: right;\n",
              "    }\n",
              "</style>\n",
              "<table border=\"1\" class=\"dataframe\">\n",
              "  <thead>\n",
              "    <tr style=\"text-align: right;\">\n",
              "      <th></th>\n",
              "      <th>reconstruction_error</th>\n",
              "      <th>true_class</th>\n",
              "    </tr>\n",
              "  </thead>\n",
              "  <tbody>\n",
              "    <tr>\n",
              "      <th>8225</th>\n",
              "      <td>0.290409</td>\n",
              "      <td>0</td>\n",
              "    </tr>\n",
              "    <tr>\n",
              "      <th>10794</th>\n",
              "      <td>0.761553</td>\n",
              "      <td>0</td>\n",
              "    </tr>\n",
              "    <tr>\n",
              "      <th>9163</th>\n",
              "      <td>0.288454</td>\n",
              "      <td>0</td>\n",
              "    </tr>\n",
              "    <tr>\n",
              "      <th>26591</th>\n",
              "      <td>0.120735</td>\n",
              "      <td>0</td>\n",
              "    </tr>\n",
              "    <tr>\n",
              "      <th>6631</th>\n",
              "      <td>0.330194</td>\n",
              "      <td>0</td>\n",
              "    </tr>\n",
              "  </tbody>\n",
              "</table>\n",
              "</div>"
            ],
            "text/plain": [
              "       reconstruction_error  true_class\n",
              "8225               0.290409           0\n",
              "10794              0.761553           0\n",
              "9163               0.288454           0\n",
              "26591              0.120735           0\n",
              "6631               0.330194           0"
            ]
          },
          "metadata": {
            "tags": []
          },
          "execution_count": 22
        }
      ]
    },
    {
      "cell_type": "markdown",
      "metadata": {
        "id": "IXPep-KbgvcX"
      },
      "source": [
        "## Plot Reconstruction Error\n",
        "\n",
        "The reconstruction error for each sample is plotted long with a color code indicating known fraud. Only 6000 samples are plotted, but the index is randomly sampled from the original set, so the X-axis shows almost the full range of indices."
      ]
    },
    {
      "cell_type": "code",
      "metadata": {
        "id": "O3TXPKJIgvcX",
        "colab": {
          "base_uri": "https://localhost:8080/",
          "height": 513
        },
        "outputId": "c38e6d00-fd59-471c-f92f-e383693955ce"
      },
      "source": [
        "threshold = 6.0\n",
        "\n",
        "groups = error_df.groupby('true_class')\n",
        "fig, ax = plt.subplots(figsize=(12, 8))\n",
        "\n",
        "for name, group in groups:\n",
        "    ax.plot(group.index, group.reconstruction_error, marker='o', ms=2.0, linestyle='',\n",
        "            label = \"Fraud\" if name == 1 else \"Normal\",\n",
        "            color = \"red\" if name == 1 else \"blue\")\n",
        "ax.hlines(threshold, ax.get_xlim()[0], ax.get_xlim()[1], colors=\"green\", zorder=100, label='Threshold')\n",
        "ax.legend()\n",
        "plt.title(\"Reconstruction error for different classes\")\n",
        "plt.ylabel(\"Reconstruction error\")\n",
        "plt.xlabel(\"Data point index\")\n",
        "plt.show();"
      ],
      "execution_count": 58,
      "outputs": [
        {
          "output_type": "display_data",
          "data": {
            "image/png": "[encoded data removed]",
            "text/plain": [
              "<Figure size 864x576 with 1 Axes>"
            ]
          },
          "metadata": {
            "tags": [],
            "needs_background": "light"
          }
        }
      ]
    },
    {
      "cell_type": "markdown",
      "metadata": {
        "id": "TsONcjx6_DBn"
      },
      "source": [
        ""
      ]
    },
    {
      "cell_type": "markdown",
      "metadata": {
        "id": "e4JxXgvyxJku"
      },
      "source": [
        "# Analysis\n",
        "\n",
        "Given the known fraud transactions, we can determine the number of true/false positives and negatives. Ideally, there should be no false positives and false negatives, but this is an imperfect model. Let's see how well it does."
      ]
    },
    {
      "cell_type": "code",
      "metadata": {
        "id": "YcYrqCvrgvce",
        "colab": {
          "base_uri": "https://localhost:8080/"
        },
        "outputId": "567f2226-bd6c-4e28-a116-8df4b93f2bba"
      },
      "source": [
        "normal = error_df[error_df.true_class == 0]\n",
        "fraud = error_df[error_df.true_class == 1]\n",
        "\n",
        "print('Normal transactions: %d, fraud transactions: %d' % (len(normal), len(fraud)))"
      ],
      "execution_count": 59,
      "outputs": [
        {
          "output_type": "stream",
          "text": [
            "Normal transactions: 5984, fraud transactions: 16\n"
          ],
          "name": "stdout"
        }
      ]
    },
    {
      "cell_type": "code",
      "metadata": {
        "id": "1ySewU_gsZBZ",
        "colab": {
          "base_uri": "https://localhost:8080/"
        },
        "outputId": "a99801c5-cd64-4a79-c24a-1fe713b8dd63"
      },
      "source": [
        "true_positives = len(fraud[fraud.reconstruction_error >= threshold])\n",
        "false_positives = len(normal[normal.reconstruction_error >= threshold])\n",
        "\n",
        "true_negatives = len(normal[normal.reconstruction_error < threshold])\n",
        "false_negatives = len(fraud[fraud.reconstruction_error < threshold])\n",
        "\n",
        "print('True positives: %d, true negatives: %d' % (true_positives, true_negatives))\n",
        "print('False positives: %d, false negatives: %d' % (false_positives, false_negatives))"
      ],
      "execution_count": 60,
      "outputs": [
        {
          "output_type": "stream",
          "text": [
            "True positives: 10, true negatives: 5925\n",
            "False positives: 59, false negatives: 6\n"
          ],
          "name": "stdout"
        }
      ]
    },
    {
      "cell_type": "markdown",
      "metadata": {
        "id": "5zr0KAh_-52b"
      },
      "source": [
        ""
      ]
    },
    {
      "cell_type": "markdown",
      "metadata": {
        "id": "FbU9T7gMgvca"
      },
      "source": [
        "## Confusion Matrix\n",
        "\n",
        "The confusion matrix below shows the number of true/false positive/negatives. It's not perfect, but not too bad either."
      ]
    },
    {
      "cell_type": "code",
      "metadata": {
        "id": "zb_Azs0Xgvcb",
        "colab": {
          "base_uri": "https://localhost:8080/",
          "height": 350
        },
        "outputId": "4cbc5b4f-0548-41b0-9154-fc5ba7f195ac"
      },
      "source": [
        "labels = [\"Normal\", \"Fraud\"]\n",
        "\n",
        "y_pred = [1 if e > threshold else 0 for e in error_df.reconstruction_error.values]\n",
        "conf_matrix = confusion_matrix(error_df.true_class, y_pred)\n",
        "\n",
        "plt.figure(figsize=(6, 5))\n",
        "sns.heatmap(conf_matrix, xticklabels=labels, yticklabels=labels, annot=True, fmt=\"d\");\n",
        "plt.title(\"Confusion matrix\")\n",
        "plt.ylabel('True class')\n",
        "plt.xlabel('Predicted class')\n",
        "plt.show()"
      ],
      "execution_count": 61,
      "outputs": [
        {
          "output_type": "display_data",
          "data": {
            "image/png": "[encoded data removed]",
            "text/plain": [
              "<Figure size 432x360 with 2 Axes>"
            ]
          },
          "metadata": {
            "tags": [],
            "needs_background": "light"
          }
        }
      ]
    }
  ]
}