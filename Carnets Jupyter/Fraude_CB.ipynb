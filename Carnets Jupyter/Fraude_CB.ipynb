{
  "nbformat": 4,
  "nbformat_minor": 0,
  "metadata": {
    "kernelspec": {
      "name": "python3",
      "display_name": "Python 3"
    },
    "language_info": {
      "codemirror_mode": {
        "name": "ipython",
        "version": 3
      },
      "file_extension": ".py",
      "mimetype": "text/x-python",
      "name": "python",
      "nbconvert_exporter": "python",
      "pygments_lexer": "ipython3",
      "version": "3.6.8"
    },
    "colab": {
      "name": "Credit_Card_Fraud.ipynb",
      "provenance": [],
      "include_colab_link": true
    }
  },
  "cells": [
    {
      "cell_type": "markdown",
      "metadata": {
        "id": "view-in-github",
        "colab_type": "text"
      },
      "source": [
        "<a href=\"https://colab.research.google.com/github/AlexandreBourrieau/ML-F1/blob/master/Carnets%20Jupyter/Fraude_CB.ipynb\" target=\"_parent\"><img src=\"https://colab.research.google.com/assets/colab-badge.svg\" alt=\"Open In Colab\"/></a>"
      ]
    },
    {
      "cell_type": "markdown",
      "metadata": {
        "id": "xohAxkytgvbx"
      },
      "source": [
        "# Détection de fraudes à la carte bancaire\n",
        "\n",
        "Cette base de données contient des transactions effectuées par CB en septembre 2013 par des utilisateurs européens. Les données ont été enregistrées sur deux jours, pendant lesquels 492 utilisations frauduleuses sur un total de 284 807 transactions ont été enregistrées.  \n",
        "\n",
        "Ce ratio est fortement déséquilibré car les cas de fraudes ne représentent que 0.172% des transactions. Un apprentissage supervisé n'est donc pas possible ici.  \n",
        "\n",
        "Nous allons utiliser un auto-encodeur pour effectuer un apprentissage non supervisé afin de détecter des irrégularités dans les données, indices de fraudes.  \n",
        "\n",
        "Les données sont disponibles sur le site de [Kaggle](https://www.kaggle.com/mlg-ulb/creditcardfraud)"
      ]
    },
    {
      "cell_type": "code",
      "metadata": {
        "id": "fPIVi6aGgvb0"
      },
      "source": [
        "import pandas as pd\n",
        "import numpy as np\n",
        "import matplotlib.pyplot as plt\n",
        "import seaborn as sns\n",
        "from sklearn.model_selection import train_test_split\n",
        "from sklearn.preprocessing import StandardScaler\n",
        "from tensorflow.keras.models import Sequential, load_model\n",
        "from tensorflow.keras.layers import Dense\n",
        "from tensorflow.keras.callbacks import ModelCheckpoint\n",
        "from sklearn.metrics import confusion_matrix"
      ],
      "execution_count": 1,
      "outputs": []
    },
    {
      "cell_type": "markdown",
      "metadata": {
        "id": "CqbDAvEbgvb7"
      },
      "source": [
        "## Lecture des données\n",
        "\n",
        "Le nombre de données est très grand. Pour réduire le temps de calcul, nous n'utiliserons qu'une partie d'entre elles.  "
      ]
    },
    {
      "cell_type": "code",
      "metadata": {
        "id": "cmDvv8e0NIfT",
        "colab": {
          "base_uri": "https://localhost:8080/"
        },
        "outputId": "edb7f2d4-5edb-4f1a-f902-3a9475ca5203"
      },
      "source": [
        "!wget -q \"https://github.com/AlexandreBourrieau/ML-F1/raw/master/Carnets%20Jupyter/Donn%C3%A9es/creditcard.zip\"\n",
        "!unzip creditcard.zip -x"
      ],
      "execution_count": 2,
      "outputs": [
        {
          "output_type": "stream",
          "text": [
            "Archive:  creditcard.zip\n",
            "  inflating: creditcard.csv          \n"
          ],
          "name": "stdout"
        }
      ]
    },
    {
      "cell_type": "code",
      "metadata": {
        "colab": {
          "base_uri": "https://localhost:8080/"
        },
        "id": "WyfM9Ccc4nLc",
        "outputId": "251cb79d-4299-4588-e13e-c716a2c52628"
      },
      "source": [
        "!ls"
      ],
      "execution_count": null,
      "outputs": [
        {
          "output_type": "stream",
          "text": [
            "creditcard.csv\tcreditcard.zip\tsample_data\n"
          ],
          "name": "stdout"
        }
      ]
    },
    {
      "cell_type": "code",
      "metadata": {
        "id": "VSEi4bFBgvb8",
        "colab": {
          "base_uri": "https://localhost:8080/"
        },
        "outputId": "7320f05b-bb39-4b5e-aa94-9190543e0a2b"
      },
      "source": [
        "data = pd.read_csv(\"creditcard.csv\")\n",
        "data = data.head(30000)\n",
        "data.shape"
      ],
      "execution_count": 3,
      "outputs": [
        {
          "output_type": "execute_result",
          "data": {
            "text/plain": [
              "(30000, 31)"
            ]
          },
          "metadata": {
            "tags": []
          },
          "execution_count": 3
        }
      ]
    },
    {
      "cell_type": "markdown",
      "metadata": {
        "id": "5QqUPf5N5tAn"
      },
      "source": [
        "Les colonnes qui ne sont pas anonymisées sont :\r\n",
        "- Time : Temps écoulé depuis la première transaction\r\n",
        "- Amount : Montant de la transaction\r\n",
        "- Class : 0 = Achat non frauduleux / 1 = achat frauduleux\r\n",
        "  \r\n",
        "Les autres données anonymes sont par exemple les coordonnées de l'acheteur, son adresse, ..."
      ]
    },
    {
      "cell_type": "code",
      "metadata": {
        "id": "zh-HZs3Gv5c2",
        "colab": {
          "base_uri": "https://localhost:8080/",
          "height": 222
        },
        "outputId": "96b68985-34aa-420f-bae4-a8686530dcc9"
      },
      "source": [
        "data.head()"
      ],
      "execution_count": null,
      "outputs": [
        {
          "output_type": "execute_result",
          "data": {
            "text/html": [
              "<div>\n",
              "<style scoped>\n",
              "    .dataframe tbody tr th:only-of-type {\n",
              "        vertical-align: middle;\n",
              "    }\n",
              "\n",
              "    .dataframe tbody tr th {\n",
              "        vertical-align: top;\n",
              "    }\n",
              "\n",
              "    .dataframe thead th {\n",
              "        text-align: right;\n",
              "    }\n",
              "</style>\n",
              "<table border=\"1\" class=\"dataframe\">\n",
              "  <thead>\n",
              "    <tr style=\"text-align: right;\">\n",
              "      <th></th>\n",
              "      <th>V1</th>\n",
              "      <th>V2</th>\n",
              "      <th>V3</th>\n",
              "      <th>V4</th>\n",
              "      <th>V5</th>\n",
              "      <th>V6</th>\n",
              "      <th>V7</th>\n",
              "      <th>V8</th>\n",
              "      <th>V9</th>\n",
              "      <th>V10</th>\n",
              "      <th>V11</th>\n",
              "      <th>V12</th>\n",
              "      <th>V13</th>\n",
              "      <th>V14</th>\n",
              "      <th>V15</th>\n",
              "      <th>V16</th>\n",
              "      <th>V17</th>\n",
              "      <th>V18</th>\n",
              "      <th>V19</th>\n",
              "      <th>V20</th>\n",
              "      <th>V21</th>\n",
              "      <th>V22</th>\n",
              "      <th>V23</th>\n",
              "      <th>V24</th>\n",
              "      <th>V25</th>\n",
              "      <th>V26</th>\n",
              "      <th>V27</th>\n",
              "      <th>V28</th>\n",
              "      <th>Amount</th>\n",
              "      <th>Class</th>\n",
              "    </tr>\n",
              "  </thead>\n",
              "  <tbody>\n",
              "    <tr>\n",
              "      <th>0</th>\n",
              "      <td>-1.359807</td>\n",
              "      <td>-0.072781</td>\n",
              "      <td>2.536347</td>\n",
              "      <td>1.378155</td>\n",
              "      <td>-0.338321</td>\n",
              "      <td>0.462388</td>\n",
              "      <td>0.239599</td>\n",
              "      <td>0.098698</td>\n",
              "      <td>0.363787</td>\n",
              "      <td>0.090794</td>\n",
              "      <td>-0.551600</td>\n",
              "      <td>-0.617801</td>\n",
              "      <td>-0.991390</td>\n",
              "      <td>-0.311169</td>\n",
              "      <td>1.468177</td>\n",
              "      <td>-0.470401</td>\n",
              "      <td>0.207971</td>\n",
              "      <td>0.025791</td>\n",
              "      <td>0.403993</td>\n",
              "      <td>0.251412</td>\n",
              "      <td>-0.018307</td>\n",
              "      <td>0.277838</td>\n",
              "      <td>-0.110474</td>\n",
              "      <td>0.066928</td>\n",
              "      <td>0.128539</td>\n",
              "      <td>-0.189115</td>\n",
              "      <td>0.133558</td>\n",
              "      <td>-0.021053</td>\n",
              "      <td>0.313255</td>\n",
              "      <td>0</td>\n",
              "    </tr>\n",
              "    <tr>\n",
              "      <th>1</th>\n",
              "      <td>1.191857</td>\n",
              "      <td>0.266151</td>\n",
              "      <td>0.166480</td>\n",
              "      <td>0.448154</td>\n",
              "      <td>0.060018</td>\n",
              "      <td>-0.082361</td>\n",
              "      <td>-0.078803</td>\n",
              "      <td>0.085102</td>\n",
              "      <td>-0.255425</td>\n",
              "      <td>-0.166974</td>\n",
              "      <td>1.612727</td>\n",
              "      <td>1.065235</td>\n",
              "      <td>0.489095</td>\n",
              "      <td>-0.143772</td>\n",
              "      <td>0.635558</td>\n",
              "      <td>0.463917</td>\n",
              "      <td>-0.114805</td>\n",
              "      <td>-0.183361</td>\n",
              "      <td>-0.145783</td>\n",
              "      <td>-0.069083</td>\n",
              "      <td>-0.225775</td>\n",
              "      <td>-0.638672</td>\n",
              "      <td>0.101288</td>\n",
              "      <td>-0.339846</td>\n",
              "      <td>0.167170</td>\n",
              "      <td>0.125895</td>\n",
              "      <td>-0.008983</td>\n",
              "      <td>0.014724</td>\n",
              "      <td>-0.346564</td>\n",
              "      <td>0</td>\n",
              "    </tr>\n",
              "    <tr>\n",
              "      <th>2</th>\n",
              "      <td>-1.358354</td>\n",
              "      <td>-1.340163</td>\n",
              "      <td>1.773209</td>\n",
              "      <td>0.379780</td>\n",
              "      <td>-0.503198</td>\n",
              "      <td>1.800499</td>\n",
              "      <td>0.791461</td>\n",
              "      <td>0.247676</td>\n",
              "      <td>-1.514654</td>\n",
              "      <td>0.207643</td>\n",
              "      <td>0.624501</td>\n",
              "      <td>0.066084</td>\n",
              "      <td>0.717293</td>\n",
              "      <td>-0.165946</td>\n",
              "      <td>2.345865</td>\n",
              "      <td>-2.890083</td>\n",
              "      <td>1.109969</td>\n",
              "      <td>-0.121359</td>\n",
              "      <td>-2.261857</td>\n",
              "      <td>0.524980</td>\n",
              "      <td>0.247998</td>\n",
              "      <td>0.771679</td>\n",
              "      <td>0.909412</td>\n",
              "      <td>-0.689281</td>\n",
              "      <td>-0.327642</td>\n",
              "      <td>-0.139097</td>\n",
              "      <td>-0.055353</td>\n",
              "      <td>-0.059752</td>\n",
              "      <td>1.341805</td>\n",
              "      <td>0</td>\n",
              "    </tr>\n",
              "    <tr>\n",
              "      <th>3</th>\n",
              "      <td>-0.966272</td>\n",
              "      <td>-0.185226</td>\n",
              "      <td>1.792993</td>\n",
              "      <td>-0.863291</td>\n",
              "      <td>-0.010309</td>\n",
              "      <td>1.247203</td>\n",
              "      <td>0.237609</td>\n",
              "      <td>0.377436</td>\n",
              "      <td>-1.387024</td>\n",
              "      <td>-0.054952</td>\n",
              "      <td>-0.226487</td>\n",
              "      <td>0.178228</td>\n",
              "      <td>0.507757</td>\n",
              "      <td>-0.287924</td>\n",
              "      <td>-0.631418</td>\n",
              "      <td>-1.059647</td>\n",
              "      <td>-0.684093</td>\n",
              "      <td>1.965775</td>\n",
              "      <td>-1.232622</td>\n",
              "      <td>-0.208038</td>\n",
              "      <td>-0.108300</td>\n",
              "      <td>0.005274</td>\n",
              "      <td>-0.190321</td>\n",
              "      <td>-1.175575</td>\n",
              "      <td>0.647376</td>\n",
              "      <td>-0.221929</td>\n",
              "      <td>0.062723</td>\n",
              "      <td>0.061458</td>\n",
              "      <td>0.195958</td>\n",
              "      <td>0</td>\n",
              "    </tr>\n",
              "    <tr>\n",
              "      <th>4</th>\n",
              "      <td>-1.158233</td>\n",
              "      <td>0.877737</td>\n",
              "      <td>1.548718</td>\n",
              "      <td>0.403034</td>\n",
              "      <td>-0.407193</td>\n",
              "      <td>0.095921</td>\n",
              "      <td>0.592941</td>\n",
              "      <td>-0.270533</td>\n",
              "      <td>0.817739</td>\n",
              "      <td>0.753074</td>\n",
              "      <td>-0.822843</td>\n",
              "      <td>0.538196</td>\n",
              "      <td>1.345852</td>\n",
              "      <td>-1.119670</td>\n",
              "      <td>0.175121</td>\n",
              "      <td>-0.451449</td>\n",
              "      <td>-0.237033</td>\n",
              "      <td>-0.038195</td>\n",
              "      <td>0.803487</td>\n",
              "      <td>0.408542</td>\n",
              "      <td>-0.009431</td>\n",
              "      <td>0.798278</td>\n",
              "      <td>-0.137458</td>\n",
              "      <td>0.141267</td>\n",
              "      <td>-0.206010</td>\n",
              "      <td>0.502292</td>\n",
              "      <td>0.219422</td>\n",
              "      <td>0.215153</td>\n",
              "      <td>-0.044340</td>\n",
              "      <td>0</td>\n",
              "    </tr>\n",
              "  </tbody>\n",
              "</table>\n",
              "</div>"
            ],
            "text/plain": [
              "         V1        V2        V3        V4  ...       V27       V28    Amount  Class\n",
              "0 -1.359807 -0.072781  2.536347  1.378155  ...  0.133558 -0.021053  0.313255      0\n",
              "1  1.191857  0.266151  0.166480  0.448154  ... -0.008983  0.014724 -0.346564      0\n",
              "2 -1.358354 -1.340163  1.773209  0.379780  ... -0.055353 -0.059752  1.341805      0\n",
              "3 -0.966272 -0.185226  1.792993 -0.863291  ...  0.062723  0.061458  0.195958      0\n",
              "4 -1.158233  0.877737  1.548718  0.403034  ...  0.219422  0.215153 -0.044340      0\n",
              "\n",
              "[5 rows x 30 columns]"
            ]
          },
          "metadata": {
            "tags": []
          },
          "execution_count": 14
        }
      ]
    },
    {
      "cell_type": "markdown",
      "metadata": {
        "id": "zgMLc0626hzL"
      },
      "source": [
        "Regardons combien nous avons de données frauduleuses :"
      ]
    },
    {
      "cell_type": "code",
      "metadata": {
        "id": "CDDQ22kt81nt",
        "colab": {
          "base_uri": "https://localhost:8080/",
          "height": 161
        },
        "outputId": "1b88866b-e379-47a0-a4c2-9e3940e52ae2"
      },
      "source": [
        "data.groupby(['Class']).count()"
      ],
      "execution_count": null,
      "outputs": [
        {
          "output_type": "execute_result",
          "data": {
            "text/html": [
              "<div>\n",
              "<style scoped>\n",
              "    .dataframe tbody tr th:only-of-type {\n",
              "        vertical-align: middle;\n",
              "    }\n",
              "\n",
              "    .dataframe tbody tr th {\n",
              "        vertical-align: top;\n",
              "    }\n",
              "\n",
              "    .dataframe thead th {\n",
              "        text-align: right;\n",
              "    }\n",
              "</style>\n",
              "<table border=\"1\" class=\"dataframe\">\n",
              "  <thead>\n",
              "    <tr style=\"text-align: right;\">\n",
              "      <th></th>\n",
              "      <th>Time</th>\n",
              "      <th>V1</th>\n",
              "      <th>V2</th>\n",
              "      <th>V3</th>\n",
              "      <th>V4</th>\n",
              "      <th>V5</th>\n",
              "      <th>V6</th>\n",
              "      <th>V7</th>\n",
              "      <th>V8</th>\n",
              "      <th>V9</th>\n",
              "      <th>V10</th>\n",
              "      <th>V11</th>\n",
              "      <th>V12</th>\n",
              "      <th>V13</th>\n",
              "      <th>V14</th>\n",
              "      <th>V15</th>\n",
              "      <th>V16</th>\n",
              "      <th>V17</th>\n",
              "      <th>V18</th>\n",
              "      <th>V19</th>\n",
              "      <th>V20</th>\n",
              "      <th>V21</th>\n",
              "      <th>V22</th>\n",
              "      <th>V23</th>\n",
              "      <th>V24</th>\n",
              "      <th>V25</th>\n",
              "      <th>V26</th>\n",
              "      <th>V27</th>\n",
              "      <th>V28</th>\n",
              "      <th>Amount</th>\n",
              "    </tr>\n",
              "    <tr>\n",
              "      <th>Class</th>\n",
              "      <th></th>\n",
              "      <th></th>\n",
              "      <th></th>\n",
              "      <th></th>\n",
              "      <th></th>\n",
              "      <th></th>\n",
              "      <th></th>\n",
              "      <th></th>\n",
              "      <th></th>\n",
              "      <th></th>\n",
              "      <th></th>\n",
              "      <th></th>\n",
              "      <th></th>\n",
              "      <th></th>\n",
              "      <th></th>\n",
              "      <th></th>\n",
              "      <th></th>\n",
              "      <th></th>\n",
              "      <th></th>\n",
              "      <th></th>\n",
              "      <th></th>\n",
              "      <th></th>\n",
              "      <th></th>\n",
              "      <th></th>\n",
              "      <th></th>\n",
              "      <th></th>\n",
              "      <th></th>\n",
              "      <th></th>\n",
              "      <th></th>\n",
              "      <th></th>\n",
              "    </tr>\n",
              "  </thead>\n",
              "  <tbody>\n",
              "    <tr>\n",
              "      <th>0</th>\n",
              "      <td>29906</td>\n",
              "      <td>29906</td>\n",
              "      <td>29906</td>\n",
              "      <td>29906</td>\n",
              "      <td>29906</td>\n",
              "      <td>29906</td>\n",
              "      <td>29906</td>\n",
              "      <td>29906</td>\n",
              "      <td>29906</td>\n",
              "      <td>29906</td>\n",
              "      <td>29906</td>\n",
              "      <td>29906</td>\n",
              "      <td>29906</td>\n",
              "      <td>29906</td>\n",
              "      <td>29906</td>\n",
              "      <td>29906</td>\n",
              "      <td>29906</td>\n",
              "      <td>29906</td>\n",
              "      <td>29906</td>\n",
              "      <td>29906</td>\n",
              "      <td>29906</td>\n",
              "      <td>29906</td>\n",
              "      <td>29906</td>\n",
              "      <td>29906</td>\n",
              "      <td>29906</td>\n",
              "      <td>29906</td>\n",
              "      <td>29906</td>\n",
              "      <td>29906</td>\n",
              "      <td>29906</td>\n",
              "      <td>29906</td>\n",
              "    </tr>\n",
              "    <tr>\n",
              "      <th>1</th>\n",
              "      <td>94</td>\n",
              "      <td>94</td>\n",
              "      <td>94</td>\n",
              "      <td>94</td>\n",
              "      <td>94</td>\n",
              "      <td>94</td>\n",
              "      <td>94</td>\n",
              "      <td>94</td>\n",
              "      <td>94</td>\n",
              "      <td>94</td>\n",
              "      <td>94</td>\n",
              "      <td>94</td>\n",
              "      <td>94</td>\n",
              "      <td>94</td>\n",
              "      <td>94</td>\n",
              "      <td>94</td>\n",
              "      <td>94</td>\n",
              "      <td>94</td>\n",
              "      <td>94</td>\n",
              "      <td>94</td>\n",
              "      <td>94</td>\n",
              "      <td>94</td>\n",
              "      <td>94</td>\n",
              "      <td>94</td>\n",
              "      <td>94</td>\n",
              "      <td>94</td>\n",
              "      <td>94</td>\n",
              "      <td>94</td>\n",
              "      <td>94</td>\n",
              "      <td>94</td>\n",
              "    </tr>\n",
              "  </tbody>\n",
              "</table>\n",
              "</div>"
            ],
            "text/plain": [
              "        Time     V1     V2     V3     V4  ...    V25    V26    V27    V28  Amount\n",
              "Class                                     ...                                    \n",
              "0      29906  29906  29906  29906  29906  ...  29906  29906  29906  29906   29906\n",
              "1         94     94     94     94     94  ...     94     94     94     94      94\n",
              "\n",
              "[2 rows x 30 columns]"
            ]
          },
          "metadata": {
            "tags": []
          },
          "execution_count": 5
        }
      ]
    },
    {
      "cell_type": "code",
      "metadata": {
        "id": "TLM0ajP88zQO",
        "colab": {
          "base_uri": "https://localhost:8080/"
        },
        "outputId": "99f7529a-8d76-48bf-e8ee-f77c3e8e4f4b"
      },
      "source": [
        "100*(94/29906)"
      ],
      "execution_count": null,
      "outputs": [
        {
          "output_type": "execute_result",
          "data": {
            "text/plain": [
              "0.31431819701732094"
            ]
          },
          "metadata": {
            "tags": []
          },
          "execution_count": 6
        }
      ]
    },
    {
      "cell_type": "markdown",
      "metadata": {
        "id": "cxjaflpVgvcD"
      },
      "source": [
        "## Préparation des données\n",
        "\n",
        "La colonne Time est ignorée et le montant de la transaction est normalisé. Les autres colonnes sont inchangées"
      ]
    },
    {
      "cell_type": "code",
      "metadata": {
        "id": "JB_FNz-4gvcE"
      },
      "source": [
        "data = data.drop(['Time'], axis=1)\n",
        "data['Amount'] = StandardScaler().fit_transform(data['Amount'].values.reshape(-1, 1))"
      ],
      "execution_count": 4,
      "outputs": []
    },
    {
      "cell_type": "code",
      "metadata": {
        "id": "3VhZZRvwgvcG",
        "colab": {
          "base_uri": "https://localhost:8080/"
        },
        "outputId": "a24e1a82-0080-4a91-c26f-7ccbdf97a2b2"
      },
      "source": [
        "x_entrainement, x_test = train_test_split(data, test_size=0.2, random_state=0)\n",
        "x_entrainement = x_entrainement.drop(['Class'], axis=1)\n",
        "y_test = x_test['Class']\n",
        "x_test = x_test.drop(['Class'], axis=1)\n",
        "x_entrainement = x_entrainement.values\n",
        "x_test = x_test.values\n",
        "x_entrainement.shape"
      ],
      "execution_count": 5,
      "outputs": [
        {
          "output_type": "execute_result",
          "data": {
            "text/plain": [
              "(24000, 29)"
            ]
          },
          "metadata": {
            "tags": []
          },
          "execution_count": 5
        }
      ]
    },
    {
      "cell_type": "markdown",
      "metadata": {
        "id": "idV-blvXgvcJ"
      },
      "source": [
        "## Construction du modèle\n",
        "\n",
        "Ce modèle est un modèle standard d'auto-encodeur à quatre couches :\n",
        "- Une couche d'entrée à 14 neurones, avec une fonction d'activation de type tanh\n",
        "- Une première couche cachées de 14/2 = 7 neurones, avec une fonction d'activation de type relu\n",
        "- Une deuxième couche cachée de 14/2 = 7 neurones, avec une fonction d'activation de type tanh\n",
        "- Une couche de sortie à 14 neurones, avec une fonction d'activation de type relu"
      ]
    },
    {
      "cell_type": "code",
      "metadata": {
        "id": "rDTwKbXqln-T",
        "colab": {
          "base_uri": "https://localhost:8080/"
        },
        "outputId": "8834ab11-0ce3-41e2-a0fa-14a84f02db46"
      },
      "source": [
        "dimension_entrees = x_entrainement.shape[1]\n",
        "dimension_encodeur = 14\n",
        "\n",
        "model = Sequential()\n",
        "model.add(Dense(dimension_encodeur, activation=\"tanh\", input_shape=(dimension_entrees,)))\n",
        "model.add(Dense(int(dimension_encodeur /2), activation=\"relu\"))\n",
        "model.add(Dense(int(dimension_encodeur /2), activation='tanh'))\n",
        "model.add(Dense(dimension_entrees, activation='relu'))28\n",
        "\n",
        "model.summary()"
      ],
      "execution_count": 6,
      "outputs": [
        {
          "output_type": "stream",
          "text": [
            "Model: \"sequential\"\n",
            "_________________________________________________________________\n",
            "Layer (type)                 Output Shape              Param #   \n",
            "=================================================================\n",
            "dense (Dense)                (None, 14)                420       \n",
            "_________________________________________________________________\n",
            "dense_1 (Dense)              (None, 7)                 105       \n",
            "_________________________________________________________________\n",
            "dense_2 (Dense)              (None, 7)                 56        \n",
            "_________________________________________________________________\n",
            "dense_3 (Dense)              (None, 29)                232       \n",
            "=================================================================\n",
            "Total params: 813\n",
            "Trainable params: 813\n",
            "Non-trainable params: 0\n",
            "_________________________________________________________________\n"
          ],
          "name": "stdout"
        }
      ]
    },
    {
      "cell_type": "markdown",
      "metadata": {
        "id": "kvOSXfO2yRAF"
      },
      "source": [
        "# Entrainement du modèle\n",
        "\n"
      ]
    },
    {
      "cell_type": "code",
      "metadata": {
        "id": "sw64M6v7gvcN",
        "colab": {
          "base_uri": "https://localhost:8080/"
        },
        "outputId": "7447f4ac-4a1d-4946-ebba-56060f2eec7a"
      },
      "source": [
        "nb_iterations = 40\n",
        "batch_size = 35\n",
        "\n",
        "model.compile(optimizer='adam', loss='mean_squared_error', metrics=['acc'])\n",
        "\n",
        "history = model.fit(x_entrainement, x_entrainement,\n",
        "                    epochs=nb_iterations,\n",
        "                    batch_size=batch_size,\n",
        "                    validation_data=(x_test, x_test),\n",
        "                    verbose=1)\n",
        "\n",
        "autoencoder = model"
      ],
      "execution_count": 7,
      "outputs": [
        {
          "output_type": "stream",
          "text": [
            "Epoch 1/40\n",
            "686/686 [==============================] - 2s 2ms/step - loss: 1.2159 - acc: 0.1864 - val_loss: 0.9698 - val_acc: 0.4233\n",
            "Epoch 2/40\n",
            "686/686 [==============================] - 1s 2ms/step - loss: 1.0093 - acc: 0.4370 - val_loss: 0.9268 - val_acc: 0.4910\n",
            "Epoch 3/40\n",
            "686/686 [==============================] - 1s 2ms/step - loss: 1.0290 - acc: 0.5039 - val_loss: 0.9024 - val_acc: 0.5143\n",
            "Epoch 4/40\n",
            "686/686 [==============================] - 1s 2ms/step - loss: 0.8672 - acc: 0.5254 - val_loss: 0.8826 - val_acc: 0.5612\n",
            "Epoch 5/40\n",
            "686/686 [==============================] - 1s 2ms/step - loss: 0.8736 - acc: 0.5732 - val_loss: 0.8660 - val_acc: 0.6037\n",
            "Epoch 6/40\n",
            "686/686 [==============================] - 1s 2ms/step - loss: 0.9467 - acc: 0.6135 - val_loss: 0.8547 - val_acc: 0.6273\n",
            "Epoch 7/40\n",
            "686/686 [==============================] - 1s 2ms/step - loss: 0.9399 - acc: 0.6429 - val_loss: 0.8454 - val_acc: 0.6478\n",
            "Epoch 8/40\n",
            "686/686 [==============================] - 1s 2ms/step - loss: 0.8658 - acc: 0.6554 - val_loss: 0.8384 - val_acc: 0.6540\n",
            "Epoch 9/40\n",
            "686/686 [==============================] - 1s 2ms/step - loss: 0.8742 - acc: 0.6612 - val_loss: 0.8323 - val_acc: 0.6588\n",
            "Epoch 10/40\n",
            "686/686 [==============================] - 1s 2ms/step - loss: 0.8879 - acc: 0.6690 - val_loss: 0.8278 - val_acc: 0.6598\n",
            "Epoch 11/40\n",
            "686/686 [==============================] - 1s 2ms/step - loss: 0.9232 - acc: 0.6697 - val_loss: 0.8239 - val_acc: 0.6680\n",
            "Epoch 12/40\n",
            "686/686 [==============================] - 1s 2ms/step - loss: 0.8190 - acc: 0.6763 - val_loss: 0.8207 - val_acc: 0.6712\n",
            "Epoch 13/40\n",
            "686/686 [==============================] - 1s 2ms/step - loss: 0.8872 - acc: 0.6775 - val_loss: 0.8185 - val_acc: 0.6748\n",
            "Epoch 14/40\n",
            "686/686 [==============================] - 1s 2ms/step - loss: 0.8401 - acc: 0.6822 - val_loss: 0.8159 - val_acc: 0.6815\n",
            "Epoch 15/40\n",
            "686/686 [==============================] - 1s 2ms/step - loss: 0.8521 - acc: 0.6815 - val_loss: 0.8135 - val_acc: 0.6872\n",
            "Epoch 16/40\n",
            "686/686 [==============================] - 1s 2ms/step - loss: 0.8444 - acc: 0.6808 - val_loss: 0.8124 - val_acc: 0.6762\n",
            "Epoch 17/40\n",
            "686/686 [==============================] - 1s 2ms/step - loss: 0.8549 - acc: 0.6855 - val_loss: 0.8122 - val_acc: 0.6905\n",
            "Epoch 18/40\n",
            "686/686 [==============================] - 1s 2ms/step - loss: 0.9215 - acc: 0.6898 - val_loss: 0.8162 - val_acc: 0.6877\n",
            "Epoch 19/40\n",
            "686/686 [==============================] - 1s 2ms/step - loss: 0.8531 - acc: 0.6948 - val_loss: 0.8100 - val_acc: 0.6860\n",
            "Epoch 20/40\n",
            "686/686 [==============================] - 1s 1ms/step - loss: 0.8264 - acc: 0.6944 - val_loss: 0.8096 - val_acc: 0.6905\n",
            "Epoch 21/40\n",
            "686/686 [==============================] - 1s 2ms/step - loss: 0.8744 - acc: 0.7005 - val_loss: 0.8090 - val_acc: 0.6962\n",
            "Epoch 22/40\n",
            "686/686 [==============================] - 1s 2ms/step - loss: 0.8503 - acc: 0.6978 - val_loss: 0.8072 - val_acc: 0.6828\n",
            "Epoch 23/40\n",
            "686/686 [==============================] - 1s 2ms/step - loss: 0.8571 - acc: 0.6954 - val_loss: 0.8063 - val_acc: 0.6982\n",
            "Epoch 24/40\n",
            "686/686 [==============================] - 1s 2ms/step - loss: 0.8468 - acc: 0.7022 - val_loss: 0.8067 - val_acc: 0.6952\n",
            "Epoch 25/40\n",
            "686/686 [==============================] - 1s 2ms/step - loss: 0.8641 - acc: 0.7002 - val_loss: 0.8059 - val_acc: 0.6972\n",
            "Epoch 26/40\n",
            "686/686 [==============================] - 1s 2ms/step - loss: 0.7808 - acc: 0.7037 - val_loss: 0.8020 - val_acc: 0.7010\n",
            "Epoch 27/40\n",
            "686/686 [==============================] - 1s 2ms/step - loss: 0.8682 - acc: 0.7025 - val_loss: 0.8017 - val_acc: 0.7005\n",
            "Epoch 28/40\n",
            "686/686 [==============================] - 1s 2ms/step - loss: 0.8836 - acc: 0.7034 - val_loss: 0.7989 - val_acc: 0.7045\n",
            "Epoch 29/40\n",
            "686/686 [==============================] - 1s 2ms/step - loss: 0.9032 - acc: 0.7005 - val_loss: 0.7963 - val_acc: 0.6947\n",
            "Epoch 30/40\n",
            "686/686 [==============================] - 1s 2ms/step - loss: 0.8165 - acc: 0.7029 - val_loss: 0.7953 - val_acc: 0.7002\n",
            "Epoch 31/40\n",
            "686/686 [==============================] - 1s 2ms/step - loss: 0.7906 - acc: 0.7083 - val_loss: 0.7937 - val_acc: 0.7027\n",
            "Epoch 32/40\n",
            "686/686 [==============================] - 1s 2ms/step - loss: 0.8486 - acc: 0.7077 - val_loss: 0.7933 - val_acc: 0.7055\n",
            "Epoch 33/40\n",
            "686/686 [==============================] - 1s 2ms/step - loss: 0.8401 - acc: 0.7072 - val_loss: 0.7919 - val_acc: 0.7025\n",
            "Epoch 34/40\n",
            "686/686 [==============================] - 1s 2ms/step - loss: 0.8405 - acc: 0.7100 - val_loss: 0.7905 - val_acc: 0.7002\n",
            "Epoch 35/40\n",
            "686/686 [==============================] - 1s 2ms/step - loss: 0.7779 - acc: 0.7158 - val_loss: 0.7888 - val_acc: 0.7125\n",
            "Epoch 36/40\n",
            "686/686 [==============================] - 1s 2ms/step - loss: 0.8363 - acc: 0.7174 - val_loss: 0.7886 - val_acc: 0.7048\n",
            "Epoch 37/40\n",
            "686/686 [==============================] - 1s 2ms/step - loss: 0.8302 - acc: 0.7164 - val_loss: 0.7905 - val_acc: 0.7073\n",
            "Epoch 38/40\n",
            "686/686 [==============================] - 1s 2ms/step - loss: 0.8200 - acc: 0.7192 - val_loss: 0.7879 - val_acc: 0.7100\n",
            "Epoch 39/40\n",
            "686/686 [==============================] - 1s 2ms/step - loss: 0.8017 - acc: 0.7152 - val_loss: 0.7863 - val_acc: 0.7163\n",
            "Epoch 40/40\n",
            "686/686 [==============================] - 1s 2ms/step - loss: 0.8224 - acc: 0.7179 - val_loss: 0.7866 - val_acc: 0.7148\n"
          ],
          "name": "stdout"
        }
      ]
    },
    {
      "cell_type": "markdown",
      "metadata": {
        "id": "jOreexr_gvcP"
      },
      "source": [
        "## Performances du modèle\n"
      ]
    },
    {
      "cell_type": "code",
      "metadata": {
        "id": "KU1Y1-12gvcQ",
        "colab": {
          "base_uri": "https://localhost:8080/",
          "height": 295
        },
        "outputId": "e78c0a2e-7480-43cc-aef9-6cb160d17ca9"
      },
      "source": [
        "plt.plot(history.history['acc'])\n",
        "plt.plot(history.history['val_acc'])\n",
        "plt.title('Model accuracy')\n",
        "plt.ylabel('Précision')\n",
        "plt.xlabel('Itérations')\n",
        "plt.legend(['Entrainement', 'Test'], loc='upper left')\n",
        "plt.show()"
      ],
      "execution_count": 8,
      "outputs": [
        {
          "output_type": "display_data",
          "data": {
            "image/png": "[encoded data removed]",
            "text/plain": [
              "<Figure size 432x288 with 1 Axes>"
            ]
          },
          "metadata": {
            "tags": [],
            "needs_background": "light"
          }
        }
      ]
    },
    {
      "cell_type": "code",
      "metadata": {
        "id": "YcBGlUntLSfj"
      },
      "source": [
        "x_test"
      ],
      "execution_count": null,
      "outputs": []
    },
    {
      "cell_type": "markdown",
      "metadata": {
        "id": "zX3kJxBEWYPj"
      },
      "source": [
        "## Structure du modèle et calcul de l'erreur de prédiction\r\n",
        "La structure de notre modèle peut être visualisée comme ci-dessous :  \r\n",
        "![picture](https://github.com/AlexandreBourrieau/ML-F1/blob/master/Carnets%20Jupyter/Images/Schema_Non_Supervis%C3%A932.png?raw=true \"ReseauNeurone\")"
      ]
    },
    {
      "cell_type": "markdown",
      "metadata": {
        "id": "wolqQ57_bgxY"
      },
      "source": [
        "L'erreur de prédiction est l'erreur quadratique moyenne entre les entrées et les sorties (écart type). Pour chaque couple d'entrée / sortie, on calcule donc la valeur suivante :\r\n",
        "\r\n",
        " $Erreur =  \\sqrt {{{({V_{1{\\rm{\\_sortie}}}} - {V_{1{\\rm{\\_entr}}e }})}^2} + {{({V_{2{\\rm{\\_sortie}}}} - {V_{2{\\rm{\\_entr}}e }})}^2} + ... + {{(Amoun{t_{{\\rm{\\_sortie}}}} - Amoun{t_{{\\rm{\\_entr}}e }})}^2}} $"
      ]
    },
    {
      "cell_type": "markdown",
      "metadata": {
        "id": "EK8OLAVegvcT"
      },
      "source": [
        "## Prédictions\n",
        "\n",
        "Les prédictions sont effectuées sur les données de tests. L'erreur quadratique moyenne (mean-squared error - MSE) est calculés entre les tests et les prédictions. Si cette erreur est grande, c'est une potentielle anomalie et donc une fraude potentielle. Bien sûr, cela n'est pas parfait et il y a des faux-positifs (et des faux négatifs) !"
      ]
    },
    {
      "cell_type": "code",
      "metadata": {
        "id": "pedvVXtngvcU"
      },
      "source": [
        "predictions = autoencoder.predict(x_test)\n",
        "mse = np.mean(np.power(x_test - predictions, 2), axis=1)\n",
        "error_df = pd.DataFrame({'erreur_reconstruction': mse, 'class': y_test})"
      ],
      "execution_count": 17,
      "outputs": []
    },
    {
      "cell_type": "code",
      "metadata": {
        "id": "lVXgySCoNb-O",
        "colab": {
          "base_uri": "https://localhost:8080/",
          "height": 202
        },
        "outputId": "b7c2db24-a952-437f-b04c-e99e781517e8"
      },
      "source": [
        "error_df.head()"
      ],
      "execution_count": 19,
      "outputs": [
        {
          "output_type": "execute_result",
          "data": {
            "text/html": [
              "<div>\n",
              "<style scoped>\n",
              "    .dataframe tbody tr th:only-of-type {\n",
              "        vertical-align: middle;\n",
              "    }\n",
              "\n",
              "    .dataframe tbody tr th {\n",
              "        vertical-align: top;\n",
              "    }\n",
              "\n",
              "    .dataframe thead th {\n",
              "        text-align: right;\n",
              "    }\n",
              "</style>\n",
              "<table border=\"1\" class=\"dataframe\">\n",
              "  <thead>\n",
              "    <tr style=\"text-align: right;\">\n",
              "      <th></th>\n",
              "      <th>erreur_reconstruction</th>\n",
              "      <th>class</th>\n",
              "    </tr>\n",
              "  </thead>\n",
              "  <tbody>\n",
              "    <tr>\n",
              "      <th>8225</th>\n",
              "      <td>0.338139</td>\n",
              "      <td>0</td>\n",
              "    </tr>\n",
              "    <tr>\n",
              "      <th>10794</th>\n",
              "      <td>0.859082</td>\n",
              "      <td>0</td>\n",
              "    </tr>\n",
              "    <tr>\n",
              "      <th>9163</th>\n",
              "      <td>0.312201</td>\n",
              "      <td>0</td>\n",
              "    </tr>\n",
              "    <tr>\n",
              "      <th>26591</th>\n",
              "      <td>0.135297</td>\n",
              "      <td>0</td>\n",
              "    </tr>\n",
              "    <tr>\n",
              "      <th>6631</th>\n",
              "      <td>0.399796</td>\n",
              "      <td>0</td>\n",
              "    </tr>\n",
              "  </tbody>\n",
              "</table>\n",
              "</div>"
            ],
            "text/plain": [
              "       erreur_reconstruction  class\n",
              "8225                0.338139      0\n",
              "10794               0.859082      0\n",
              "9163                0.312201      0\n",
              "26591               0.135297      0\n",
              "6631                0.399796      0"
            ]
          },
          "metadata": {
            "tags": []
          },
          "execution_count": 19
        }
      ]
    },
    {
      "cell_type": "markdown",
      "metadata": {
        "id": "IXPep-KbgvcX"
      },
      "source": [
        "## Affichage de l'erreur de reconstruction\n",
        "\n",
        "L'erreur de reconstruction est affichée pour chaque échantillon. Seuls 6000 échantillons sont affichés, mais les données affichées sont tirées au hasard."
      ]
    },
    {
      "cell_type": "code",
      "metadata": {
        "id": "O3TXPKJIgvcX",
        "colab": {
          "base_uri": "https://localhost:8080/",
          "height": 513
        },
        "outputId": "cefff86b-3d23-42c0-d188-e1e3e1ad411e"
      },
      "source": [
        "niveau_detection = 6.0\n",
        "\n",
        "groups = error_df.groupby('class')\n",
        "fig, ax = plt.subplots(figsize=(12, 8))\n",
        "\n",
        "for name, group in groups:\n",
        "    ax.plot(group.index, group.erreur_reconstruction, marker='o', ms=2.0, linestyle='',\n",
        "            label = \"Fraude\" if name == 1 else \"Normal\",\n",
        "            color = \"red\" if name == 1 else \"blue\")\n",
        "ax.hlines(niveau_detection, ax.get_xlim()[0], ax.get_xlim()[1], colors=\"green\", zorder=100, label='Niveau de détection')\n",
        "ax.legend()\n",
        "plt.title(\"Erreur de reconstruction pour différents échantillons\")\n",
        "plt.ylabel(\"Erreur de reconstruction\")\n",
        "plt.xlabel(\"Index de l'échantillon\")\n",
        "plt.show();"
      ],
      "execution_count": 25,
      "outputs": [
        {
          "output_type": "display_data",
          "data": {
            "image/png": "[encoded data removed]",
            "text/plain": [
              "<Figure size 864x576 with 1 Axes>"
            ]
          },
          "metadata": {
            "tags": [],
            "needs_background": "light"
          }
        }
      ]
    },
    {
      "cell_type": "markdown",
      "metadata": {
        "id": "e4JxXgvyxJku"
      },
      "source": [
        "# Analyse\n",
        "\n",
        "Comme nous connaissons les transactions frauduleuses, nous pouvons afficher et calculer le nombre de faux positifs. Dans l'idéal, il faudrait que leur nombre soit très faible, mais notre modèle est imparfait... "
      ]
    },
    {
      "cell_type": "code",
      "metadata": {
        "id": "YcYrqCvrgvce",
        "colab": {
          "base_uri": "https://localhost:8080/"
        },
        "outputId": "7c4a3851-6d97-4cd1-dcef-dbf5173248b7"
      },
      "source": [
        "normal = error_df[error_df['class'] == 0]\n",
        "fraud = error_df[error_df['class'] == 1]\n",
        "\n",
        "print('Normal transactions: %d, fraud transactions: %d' % (len(normal), len(fraud)))"
      ],
      "execution_count": 30,
      "outputs": [
        {
          "output_type": "stream",
          "text": [
            "Normal transactions: 5984, fraud transactions: 16\n"
          ],
          "name": "stdout"
        }
      ]
    },
    {
      "cell_type": "code",
      "metadata": {
        "id": "1ySewU_gsZBZ",
        "colab": {
          "base_uri": "https://localhost:8080/"
        },
        "outputId": "6c7c6bcf-fd76-4180-842f-9b47056448d6"
      },
      "source": [
        "true_positives = len(fraud[fraud.erreur_reconstruction >= threshold])\n",
        "false_positives = len(normal[normal.erreur_reconstruction >= threshold])\n",
        "\n",
        "true_negatives = len(normal[normal.erreur_reconstruction < threshold])\n",
        "false_negatives = len(fraud[fraud.erreur_reconstruction < threshold])\n",
        "\n",
        "print('True positives: %d, true negatives: %d' % (true_positives, true_negatives))\n",
        "print('False positives: %d, false negatives: %d' % (false_positives, false_negatives))"
      ],
      "execution_count": 31,
      "outputs": [
        {
          "output_type": "stream",
          "text": [
            "True positives: 10, true negatives: 5918\n",
            "False positives: 66, false negatives: 6\n"
          ],
          "name": "stdout"
        }
      ]
    },
    {
      "cell_type": "markdown",
      "metadata": {
        "id": "FbU9T7gMgvca"
      },
      "source": [
        "## Confusion Matrix\n",
        "\n",
        "The confusion matrix below shows the number of true/false positive/negatives. It's not perfect, but not too bad either."
      ]
    },
    {
      "cell_type": "code",
      "metadata": {
        "id": "zb_Azs0Xgvcb",
        "colab": {
          "base_uri": "https://localhost:8080/",
          "height": 350
        },
        "outputId": "4cbc5b4f-0548-41b0-9154-fc5ba7f195ac"
      },
      "source": [
        "labels = [\"Normal\", \"Fraud\"]\n",
        "\n",
        "y_pred = [1 if e > threshold else 0 for e in error_df.reconstruction_error.values]\n",
        "conf_matrix = confusion_matrix(error_df.true_class, y_pred)\n",
        "\n",
        "plt.figure(figsize=(6, 5))\n",
        "sns.heatmap(conf_matrix, xticklabels=labels, yticklabels=labels, annot=True, fmt=\"d\");\n",
        "plt.title(\"Confusion matrix\")\n",
        "plt.ylabel('True class')\n",
        "plt.xlabel('Predicted class')\n",
        "plt.show()"
      ],
      "execution_count": null,
      "outputs": [
        {
          "output_type": "display_data",
          "data": {
            "image/png": "[encoded data removed]",
            "text/plain": [
              "<Figure size 432x360 with 2 Axes>"
            ]
          },
          "metadata": {
            "tags": [],
            "needs_background": "light"
          }
        }
      ]
    }
  ]
}